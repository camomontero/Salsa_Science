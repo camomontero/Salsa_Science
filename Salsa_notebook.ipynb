{
 "cells": [
  {
   "cell_type": "markdown",
   "metadata": {},
   "source": [
    "# Salsa Science"
   ]
  },
  {
   "cell_type": "markdown",
   "metadata": {},
   "source": [
    "The idea of this document is to understand the data collected from the client's assitance to the Salsa Colombiana workshops offered by Salsa Unicorns. Analyse the data, understand the trends and classify people into groups under certain criterion can give us a precise vision on where to move forward. This can help us to understand what the clients wants and in the marketing aspect we can offer them exactly what they are looking for."
   ]
  },
  {
   "cell_type": "code",
   "execution_count": 1,
   "metadata": {},
   "outputs": [],
   "source": [
    "import pandas as pd\n",
    "from pandas import DataFrame, Series\n",
    "import matplotlib.pyplot as plt\n",
    "import numpy as np\n",
    "import seaborn as sns\n",
    "from collections import OrderedDict"
   ]
  },
  {
   "cell_type": "code",
   "execution_count": 93,
   "metadata": {},
   "outputs": [],
   "source": [
    "folder=\"/home/camilo/Documents/Data_Science_Courses/Salsa_Science/\"\n",
    "df_liste = pd.read_csv(folder + '/Stats_Dataframe_Liste.csv')"
   ]
  },
  {
   "cell_type": "code",
   "execution_count": 94,
   "metadata": {},
   "outputs": [
    {
     "data": {
      "text/html": [
       "<div>\n",
       "<style scoped>\n",
       "    .dataframe tbody tr th:only-of-type {\n",
       "        vertical-align: middle;\n",
       "    }\n",
       "\n",
       "    .dataframe tbody tr th {\n",
       "        vertical-align: top;\n",
       "    }\n",
       "\n",
       "    .dataframe thead th {\n",
       "        text-align: right;\n",
       "    }\n",
       "</style>\n",
       "<table border=\"1\" class=\"dataframe\">\n",
       "  <thead>\n",
       "    <tr style=\"text-align: right;\">\n",
       "      <th></th>\n",
       "      <th>Nombre</th>\n",
       "      <th>Juli</th>\n",
       "      <th>August</th>\n",
       "      <th>September</th>\n",
       "      <th>Oktober</th>\n",
       "      <th>November</th>\n",
       "      <th>Dezember</th>\n",
       "      <th>Januar</th>\n",
       "      <th>Total</th>\n",
       "    </tr>\n",
       "  </thead>\n",
       "  <tbody>\n",
       "    <tr>\n",
       "      <th>0</th>\n",
       "      <td>Alex Pimentel</td>\n",
       "      <td>1</td>\n",
       "      <td>0</td>\n",
       "      <td>2</td>\n",
       "      <td>0</td>\n",
       "      <td>0</td>\n",
       "      <td>0</td>\n",
       "      <td>0</td>\n",
       "      <td>3</td>\n",
       "    </tr>\n",
       "    <tr>\n",
       "      <th>1</th>\n",
       "      <td>Alex Weidner</td>\n",
       "      <td>1</td>\n",
       "      <td>0</td>\n",
       "      <td>0</td>\n",
       "      <td>1</td>\n",
       "      <td>0</td>\n",
       "      <td>0</td>\n",
       "      <td>0</td>\n",
       "      <td>2</td>\n",
       "    </tr>\n",
       "    <tr>\n",
       "      <th>2</th>\n",
       "      <td>Alexander Meier</td>\n",
       "      <td>0</td>\n",
       "      <td>4</td>\n",
       "      <td>0</td>\n",
       "      <td>0</td>\n",
       "      <td>0</td>\n",
       "      <td>0</td>\n",
       "      <td>0</td>\n",
       "      <td>4</td>\n",
       "    </tr>\n",
       "    <tr>\n",
       "      <th>3</th>\n",
       "      <td>Alina Wagner</td>\n",
       "      <td>1</td>\n",
       "      <td>0</td>\n",
       "      <td>2</td>\n",
       "      <td>0</td>\n",
       "      <td>0</td>\n",
       "      <td>0</td>\n",
       "      <td>0</td>\n",
       "      <td>3</td>\n",
       "    </tr>\n",
       "    <tr>\n",
       "      <th>4</th>\n",
       "      <td>Alonso Renard</td>\n",
       "      <td>0</td>\n",
       "      <td>0</td>\n",
       "      <td>0</td>\n",
       "      <td>1</td>\n",
       "      <td>0</td>\n",
       "      <td>0</td>\n",
       "      <td>0</td>\n",
       "      <td>1</td>\n",
       "    </tr>\n",
       "  </tbody>\n",
       "</table>\n",
       "</div>"
      ],
      "text/plain": [
       "            Nombre  Juli  August  September  Oktober  November  Dezember  \\\n",
       "0    Alex Pimentel     1       0          2        0         0         0   \n",
       "1     Alex Weidner     1       0          0        1         0         0   \n",
       "2  Alexander Meier     0       4          0        0         0         0   \n",
       "3     Alina Wagner     1       0          2        0         0         0   \n",
       "4    Alonso Renard     0       0          0        1         0         0   \n",
       "\n",
       "   Januar  Total  \n",
       "0       0      3  \n",
       "1       0      2  \n",
       "2       0      4  \n",
       "3       0      3  \n",
       "4       0      1  "
      ]
     },
     "execution_count": 94,
     "metadata": {},
     "output_type": "execute_result"
    }
   ],
   "source": [
    "df_liste.head(5)"
   ]
  },
  {
   "cell_type": "markdown",
   "metadata": {},
   "source": [
    "# Find out the number of new participants per month"
   ]
  },
  {
   "cell_type": "code",
   "execution_count": 86,
   "metadata": {
    "scrolled": false
   },
   "outputs": [],
   "source": [
    "newJuli = df_liste['Juli'][df_liste['Juli']>0].count()\n",
    "newAugust = df_liste['August'][(df_liste['Juli']==0) & (df_liste['August']>0)].count()\n",
    "newSeptember = df_liste['September'][(df_liste['Juli']==0) & (df_liste['August']==0) & \n",
    "                                     (df_liste['September']>0)].count()\n",
    "newOktober = df_liste['Oktober'][(df_liste['Juli']==0) & (df_liste['August']==0) & \n",
    "                                 (df_liste['September']==0) & \n",
    "                                 (df_liste['Oktober']>0)].count()\n",
    "newNovember = df_liste['November'][(df_liste['Juli']==0) & (df_liste['August']==0) & \n",
    "                                   (df_liste['September']==0) & \n",
    "                                   (df_liste['Oktober']==0) & \n",
    "                                   (df_liste['November']>0)].count()\n",
    "newDezember = df_liste['Dezember'][(df_liste['Juli']==0) & (df_liste['August']==0) & \n",
    "                                   (df_liste['September']==0) & \n",
    "                                   (df_liste['Oktober']==0) & \n",
    "                                   (df_liste['November']==0) & \n",
    "                                   (df_liste['Dezember']>0)].count()\n",
    "newJanuar = df_liste['Januar'][(df_liste['Juli']==0) & (df_liste['August']==0) & \n",
    "                               (df_liste['September']==0) & (df_liste['Oktober']==0) & \n",
    "                               (df_liste['November']==0) & (df_liste['Dezember']==0) & \n",
    "                               (df_liste['Januar']>0)].count()"
   ]
  },
  {
   "cell_type": "code",
   "execution_count": 87,
   "metadata": {},
   "outputs": [
    {
     "data": {
      "text/html": [
       "<div>\n",
       "<style scoped>\n",
       "    .dataframe tbody tr th:only-of-type {\n",
       "        vertical-align: middle;\n",
       "    }\n",
       "\n",
       "    .dataframe tbody tr th {\n",
       "        vertical-align: top;\n",
       "    }\n",
       "\n",
       "    .dataframe thead th {\n",
       "        text-align: right;\n",
       "    }\n",
       "</style>\n",
       "<table border=\"1\" class=\"dataframe\">\n",
       "  <thead>\n",
       "    <tr style=\"text-align: right;\">\n",
       "      <th></th>\n",
       "      <th>NewJuli</th>\n",
       "      <th>NewAugust</th>\n",
       "      <th>NewSeptember</th>\n",
       "      <th>NewOktober</th>\n",
       "      <th>NewNovember</th>\n",
       "      <th>NewDezember</th>\n",
       "      <th>NewJanuar</th>\n",
       "    </tr>\n",
       "  </thead>\n",
       "  <tbody>\n",
       "    <tr>\n",
       "      <th># of new Participants</th>\n",
       "      <td>68</td>\n",
       "      <td>27</td>\n",
       "      <td>37</td>\n",
       "      <td>16</td>\n",
       "      <td>20</td>\n",
       "      <td>12</td>\n",
       "      <td>4</td>\n",
       "    </tr>\n",
       "  </tbody>\n",
       "</table>\n",
       "</div>"
      ],
      "text/plain": [
       "                       NewJuli  NewAugust  NewSeptember  NewOktober  \\\n",
       "# of new Participants       68         27            37          16   \n",
       "\n",
       "                       NewNovember  NewDezember  NewJanuar  \n",
       "# of new Participants           20           12          4  "
      ]
     },
     "execution_count": 87,
     "metadata": {},
     "output_type": "execute_result"
    }
   ],
   "source": [
    "DataFrame(OrderedDict([('NewJuli', newJuli), ('NewAugust', newAugust), \n",
    "                       ('NewSeptember', newSeptember), ('NewOktober', newOktober), \n",
    "                       ('NewNovember', newNovember), ('NewDezember', newDezember), \n",
    "                       ('NewJanuar', newJanuar)]), index=['# of new Participants'])"
   ]
  },
  {
   "cell_type": "code",
   "execution_count": 11,
   "metadata": {},
   "outputs": [
    {
     "data": {
      "image/png": "[encoded data removed]",
      "text/plain": [
       "<matplotlib.figure.Figure at 0x7f637409f2d0>"
      ]
     },
     "metadata": {},
     "output_type": "display_data"
    }
   ],
   "source": [
    "months = [7,8,9,10,11,12,13]\n",
    "#names = list(newParticipants.columns)\n",
    "values = list(newParticipants.loc[0])\n",
    "names=['Juli','August','September','Oktober','November','Dezember','Januar']\n",
    "plt.plot(months, values)\n",
    "plt.xticks(months, names)\n",
    "plt.title('New Participants Per Month')\n",
    "plt.xlabel('Month')\n",
    "plt.ylabel('Frequency')\n",
    "plt.show()"
   ]
  },
  {
   "cell_type": "markdown",
   "metadata": {},
   "source": [
    "# Find out the number of participants who came different times per Month"
   ]
  },
  {
   "cell_type": "code",
   "execution_count": 12,
   "metadata": {
    "scrolled": true
   },
   "outputs": [],
   "source": [
    "valuesJuli=df_liste['Juli'][df_liste['Juli']>0].value_counts()\n",
    "valuesAugust=df_liste['August'][df_liste['August']>0].value_counts()\n",
    "valuesSeptember=df_liste['September'][df_liste['September']>0].value_counts()\n",
    "valuesOktober=df_liste['Oktober'][df_liste['Oktober']>0].value_counts()\n",
    "valuesNovember=df_liste['November'][df_liste['November']>0].value_counts()\n",
    "valuesDezember=df_liste['Dezember'][df_liste['Dezember']>0].value_counts()\n",
    "valuesJanuar=df_liste['Januar'][df_liste['Januar']>0].value_counts()"
   ]
  },
  {
   "cell_type": "code",
   "execution_count": 13,
   "metadata": {},
   "outputs": [],
   "source": [
    "\n",
    "assistanceNumberTable=pd.concat([valuesJuli, valuesAugust, valuesSeptember, \n",
    "                                 valuesOktober, valuesNovember, valuesDezember,\n",
    "                                 valuesJanuar], axis=1)"
   ]
  },
  {
   "cell_type": "code",
   "execution_count": 14,
   "metadata": {},
   "outputs": [
    {
     "data": {
      "text/html": [
       "<div>\n",
       "<style scoped>\n",
       "    .dataframe tbody tr th:only-of-type {\n",
       "        vertical-align: middle;\n",
       "    }\n",
       "\n",
       "    .dataframe tbody tr th {\n",
       "        vertical-align: top;\n",
       "    }\n",
       "\n",
       "    .dataframe thead th {\n",
       "        text-align: right;\n",
       "    }\n",
       "</style>\n",
       "<table border=\"1\" class=\"dataframe\">\n",
       "  <thead>\n",
       "    <tr style=\"text-align: right;\">\n",
       "      <th></th>\n",
       "      <th>Juli</th>\n",
       "      <th>August</th>\n",
       "      <th>September</th>\n",
       "      <th>Oktober</th>\n",
       "      <th>November</th>\n",
       "      <th>Dezember</th>\n",
       "      <th>Januar</th>\n",
       "    </tr>\n",
       "  </thead>\n",
       "  <tbody>\n",
       "    <tr>\n",
       "      <th>1</th>\n",
       "      <td>41.0</td>\n",
       "      <td>28.0</td>\n",
       "      <td>26.0</td>\n",
       "      <td>26.0</td>\n",
       "      <td>30.0</td>\n",
       "      <td>33.0</td>\n",
       "      <td>14.0</td>\n",
       "    </tr>\n",
       "    <tr>\n",
       "      <th>2</th>\n",
       "      <td>8.0</td>\n",
       "      <td>13.0</td>\n",
       "      <td>31.0</td>\n",
       "      <td>22.0</td>\n",
       "      <td>15.0</td>\n",
       "      <td>21.0</td>\n",
       "      <td>12.0</td>\n",
       "    </tr>\n",
       "    <tr>\n",
       "      <th>3</th>\n",
       "      <td>11.0</td>\n",
       "      <td>4.0</td>\n",
       "      <td>11.0</td>\n",
       "      <td>11.0</td>\n",
       "      <td>14.0</td>\n",
       "      <td>1.0</td>\n",
       "      <td>5.0</td>\n",
       "    </tr>\n",
       "    <tr>\n",
       "      <th>4</th>\n",
       "      <td>4.0</td>\n",
       "      <td>5.0</td>\n",
       "      <td>7.0</td>\n",
       "      <td>6.0</td>\n",
       "      <td>7.0</td>\n",
       "      <td>3.0</td>\n",
       "      <td>NaN</td>\n",
       "    </tr>\n",
       "    <tr>\n",
       "      <th>5</th>\n",
       "      <td>4.0</td>\n",
       "      <td>1.0</td>\n",
       "      <td>7.0</td>\n",
       "      <td>2.0</td>\n",
       "      <td>3.0</td>\n",
       "      <td>4.0</td>\n",
       "      <td>NaN</td>\n",
       "    </tr>\n",
       "    <tr>\n",
       "      <th>6</th>\n",
       "      <td>NaN</td>\n",
       "      <td>NaN</td>\n",
       "      <td>1.0</td>\n",
       "      <td>2.0</td>\n",
       "      <td>1.0</td>\n",
       "      <td>NaN</td>\n",
       "      <td>NaN</td>\n",
       "    </tr>\n",
       "    <tr>\n",
       "      <th>7</th>\n",
       "      <td>NaN</td>\n",
       "      <td>NaN</td>\n",
       "      <td>NaN</td>\n",
       "      <td>2.0</td>\n",
       "      <td>3.0</td>\n",
       "      <td>NaN</td>\n",
       "      <td>NaN</td>\n",
       "    </tr>\n",
       "    <tr>\n",
       "      <th>8</th>\n",
       "      <td>NaN</td>\n",
       "      <td>NaN</td>\n",
       "      <td>NaN</td>\n",
       "      <td>NaN</td>\n",
       "      <td>1.0</td>\n",
       "      <td>NaN</td>\n",
       "      <td>NaN</td>\n",
       "    </tr>\n",
       "    <tr>\n",
       "      <th>10</th>\n",
       "      <td>NaN</td>\n",
       "      <td>NaN</td>\n",
       "      <td>NaN</td>\n",
       "      <td>1.0</td>\n",
       "      <td>NaN</td>\n",
       "      <td>NaN</td>\n",
       "      <td>NaN</td>\n",
       "    </tr>\n",
       "  </tbody>\n",
       "</table>\n",
       "</div>"
      ],
      "text/plain": [
       "    Juli  August  September  Oktober  November  Dezember  Januar\n",
       "1   41.0    28.0       26.0     26.0      30.0      33.0    14.0\n",
       "2    8.0    13.0       31.0     22.0      15.0      21.0    12.0\n",
       "3   11.0     4.0       11.0     11.0      14.0       1.0     5.0\n",
       "4    4.0     5.0        7.0      6.0       7.0       3.0     NaN\n",
       "5    4.0     1.0        7.0      2.0       3.0       4.0     NaN\n",
       "6    NaN     NaN        1.0      2.0       1.0       NaN     NaN\n",
       "7    NaN     NaN        NaN      2.0       3.0       NaN     NaN\n",
       "8    NaN     NaN        NaN      NaN       1.0       NaN     NaN\n",
       "10   NaN     NaN        NaN      1.0       NaN       NaN     NaN"
      ]
     },
     "execution_count": 14,
     "metadata": {},
     "output_type": "execute_result"
    }
   ],
   "source": [
    "assistanceNumberTable"
   ]
  },
  {
   "cell_type": "code",
   "execution_count": 15,
   "metadata": {},
   "outputs": [
    {
     "name": "stderr",
     "output_type": "stream",
     "text": [
      "/usr/local/lib/python2.7/dist-packages/pandas/core/computation/check.py:17: UserWarning: The installed version of numexpr 2.4.3 is not supported in pandas and will be not be used\n",
      "The minimum supported version is 2.4.6\n",
      "\n",
      "  ver=ver, min_ver=_MIN_NUMEXPR_VERSION), UserWarning)\n"
     ]
    },
    {
     "data": {
      "text/plain": [
       "<matplotlib.text.Text at 0x7f63710a2690>"
      ]
     },
     "execution_count": 15,
     "metadata": {},
     "output_type": "execute_result"
    },
    {
     "data": {
      "image/png": "[encoded data removed]",
      "text/plain": [
       "<matplotlib.figure.Figure at 0x7f6371edc0d0>"
      ]
     },
     "metadata": {},
     "output_type": "display_data"
    }
   ],
   "source": [
    "fig = plt.gcf().set_size_inches(12, 12)\n",
    "x=assistanceNumberTable.index\n",
    "y=assistanceNumberTable.Juli\n",
    "plt.subplot(331)\n",
    "plt.plot(x, y)\n",
    "plt.xlabel('Juli')\n",
    "plt.ylabel('Frequency')\n",
    "\n",
    "y=assistanceNumberTable.August\n",
    "plt.subplot(332)\n",
    "plt.plot(x, y)\n",
    "plt.xlabel('August')\n",
    "plt.title('Distribution of number of assistance per Month', fontsize=20)\n",
    "plt.ylabel('Frequency')\n",
    "\n",
    "y=assistanceNumberTable.September\n",
    "plt.subplot(333)\n",
    "plt.plot(x, y)\n",
    "plt.xlabel('September')\n",
    "plt.ylabel('Frequency')\n",
    "\n",
    "y=assistanceNumberTable.Oktober\n",
    "plt.subplot(334)\n",
    "plt.plot(x, y)\n",
    "plt.xlabel('Oktober')\n",
    "plt.ylabel('Frequency')\n",
    "\n",
    "y=assistanceNumberTable.November\n",
    "plt.subplot(335)\n",
    "plt.plot(x, y)\n",
    "plt.xlabel('November')\n",
    "plt.ylabel('Frequency')\n",
    "\n",
    "y=assistanceNumberTable.Dezember\n",
    "plt.subplot(336)\n",
    "plt.plot(x, y)\n",
    "plt.xlabel('Dezember')\n",
    "plt.ylabel('Frequency')\n",
    "\n",
    "y=assistanceNumberTable.Januar\n",
    "plt.subplot(337)\n",
    "plt.plot(x, y)\n",
    "plt.xlabel('Januar')\n",
    "plt.ylabel('Frequency')"
   ]
  },
  {
   "cell_type": "markdown",
   "metadata": {},
   "source": [
    "# Filter out the people that came in June, since June is not taken into account for calculations"
   ]
  },
  {
   "cell_type": "markdown",
   "metadata": {},
   "source": [
    "Although the June column is not there, the names of the people who came only in June and not anymore is there. In order to filtrate out these people, it is enough to look at the total column = 0. This means these people came only in June and did not come back anymore."
   ]
  },
  {
   "cell_type": "code",
   "execution_count": 16,
   "metadata": {},
   "outputs": [],
   "source": [
    "df_filter = df_liste.drop(df_liste[df_liste.Total == 0].index)"
   ]
  },
  {
   "cell_type": "code",
   "execution_count": 82,
   "metadata": {
    "scrolled": true
   },
   "outputs": [
    {
     "data": {
      "text/html": [
       "<div>\n",
       "<style scoped>\n",
       "    .dataframe tbody tr th:only-of-type {\n",
       "        vertical-align: middle;\n",
       "    }\n",
       "\n",
       "    .dataframe tbody tr th {\n",
       "        vertical-align: top;\n",
       "    }\n",
       "\n",
       "    .dataframe thead th {\n",
       "        text-align: right;\n",
       "    }\n",
       "</style>\n",
       "<table border=\"1\" class=\"dataframe\">\n",
       "  <thead>\n",
       "    <tr style=\"text-align: right;\">\n",
       "      <th></th>\n",
       "      <th>Nombre</th>\n",
       "      <th>Juli</th>\n",
       "      <th>August</th>\n",
       "      <th>September</th>\n",
       "      <th>Oktober</th>\n",
       "      <th>November</th>\n",
       "      <th>Dezember</th>\n",
       "      <th>Januar</th>\n",
       "      <th>Total</th>\n",
       "    </tr>\n",
       "  </thead>\n",
       "  <tbody>\n",
       "    <tr>\n",
       "      <th>0</th>\n",
       "      <td>Alex Pimentel</td>\n",
       "      <td>1</td>\n",
       "      <td>0</td>\n",
       "      <td>2</td>\n",
       "      <td>0</td>\n",
       "      <td>0</td>\n",
       "      <td>0</td>\n",
       "      <td>0</td>\n",
       "      <td>3</td>\n",
       "    </tr>\n",
       "    <tr>\n",
       "      <th>1</th>\n",
       "      <td>Alex Weidner</td>\n",
       "      <td>1</td>\n",
       "      <td>0</td>\n",
       "      <td>0</td>\n",
       "      <td>1</td>\n",
       "      <td>0</td>\n",
       "      <td>0</td>\n",
       "      <td>0</td>\n",
       "      <td>2</td>\n",
       "    </tr>\n",
       "    <tr>\n",
       "      <th>2</th>\n",
       "      <td>Alexander Meier</td>\n",
       "      <td>0</td>\n",
       "      <td>4</td>\n",
       "      <td>0</td>\n",
       "      <td>0</td>\n",
       "      <td>0</td>\n",
       "      <td>0</td>\n",
       "      <td>0</td>\n",
       "      <td>4</td>\n",
       "    </tr>\n",
       "    <tr>\n",
       "      <th>3</th>\n",
       "      <td>Alina Wagner</td>\n",
       "      <td>1</td>\n",
       "      <td>0</td>\n",
       "      <td>2</td>\n",
       "      <td>0</td>\n",
       "      <td>0</td>\n",
       "      <td>0</td>\n",
       "      <td>0</td>\n",
       "      <td>3</td>\n",
       "    </tr>\n",
       "    <tr>\n",
       "      <th>4</th>\n",
       "      <td>Alonso Renard</td>\n",
       "      <td>0</td>\n",
       "      <td>0</td>\n",
       "      <td>0</td>\n",
       "      <td>1</td>\n",
       "      <td>0</td>\n",
       "      <td>0</td>\n",
       "      <td>0</td>\n",
       "      <td>1</td>\n",
       "    </tr>\n",
       "  </tbody>\n",
       "</table>\n",
       "</div>"
      ],
      "text/plain": [
       "            Nombre  Juli  August  September  Oktober  November  Dezember  \\\n",
       "0    Alex Pimentel     1       0          2        0         0         0   \n",
       "1     Alex Weidner     1       0          0        1         0         0   \n",
       "2  Alexander Meier     0       4          0        0         0         0   \n",
       "3     Alina Wagner     1       0          2        0         0         0   \n",
       "4    Alonso Renard     0       0          0        1         0         0   \n",
       "\n",
       "   Januar  Total  \n",
       "0       0      3  \n",
       "1       0      2  \n",
       "2       0      4  \n",
       "3       0      3  \n",
       "4       0      1  "
      ]
     },
     "execution_count": 82,
     "metadata": {},
     "output_type": "execute_result"
    }
   ],
   "source": [
    "df_filter.head(5)"
   ]
  },
  {
   "cell_type": "code",
   "execution_count": 18,
   "metadata": {},
   "outputs": [],
   "source": [
    "assisOne=df_liste['Total'][df_liste['Total']==1].count()\n",
    "assisTwo=df_liste['Total'][df_liste['Total']==2].count()\n",
    "assisThree=df_liste['Total'][df_liste['Total']==3].count()\n",
    "assisFour=df_liste['Total'][df_liste['Total']==4].count()\n",
    "assisFive=df_liste['Total'][df_liste['Total']==5].count()\n",
    "assisSix=df_liste['Total'][df_liste['Total']==6].count()\n",
    "assisSeven=df_liste['Total'][df_liste['Total']==7].count()\n",
    "assisEight=df_liste['Total'][df_liste['Total']==8].count()\n",
    "assisGreater8=df_liste['Total'][df_liste['Total']>8].count()"
   ]
  },
  {
   "cell_type": "markdown",
   "metadata": {},
   "source": [
    "# Find out the Number of Assistance for the whole period of six months"
   ]
  },
  {
   "cell_type": "code",
   "execution_count": 90,
   "metadata": {
    "scrolled": true
   },
   "outputs": [
    {
     "data": {
      "text/html": [
       "<div>\n",
       "<style scoped>\n",
       "    .dataframe tbody tr th:only-of-type {\n",
       "        vertical-align: middle;\n",
       "    }\n",
       "\n",
       "    .dataframe tbody tr th {\n",
       "        vertical-align: top;\n",
       "    }\n",
       "\n",
       "    .dataframe thead th {\n",
       "        text-align: right;\n",
       "    }\n",
       "</style>\n",
       "<table border=\"1\" class=\"dataframe\">\n",
       "  <thead>\n",
       "    <tr style=\"text-align: right;\">\n",
       "      <th></th>\n",
       "      <th>OneTime</th>\n",
       "      <th>TwoTimes</th>\n",
       "      <th>ThreeTimes</th>\n",
       "      <th>FourTimes</th>\n",
       "      <th>FiveTimes</th>\n",
       "      <th>SixTimes</th>\n",
       "      <th>SevenTimes</th>\n",
       "      <th>EightTimes</th>\n",
       "      <th>Greater8Times</th>\n",
       "    </tr>\n",
       "  </thead>\n",
       "  <tbody>\n",
       "    <tr>\n",
       "      <th>Number of Assistance</th>\n",
       "      <td>78</td>\n",
       "      <td>20</td>\n",
       "      <td>14</td>\n",
       "      <td>6</td>\n",
       "      <td>9</td>\n",
       "      <td>7</td>\n",
       "      <td>7</td>\n",
       "      <td>3</td>\n",
       "      <td>40</td>\n",
       "    </tr>\n",
       "  </tbody>\n",
       "</table>\n",
       "</div>"
      ],
      "text/plain": [
       "                      OneTime  TwoTimes  ThreeTimes  FourTimes  FiveTimes  \\\n",
       "Number of Assistance       78        20          14          6          9   \n",
       "\n",
       "                      SixTimes  SevenTimes  EightTimes  Greater8Times  \n",
       "Number of Assistance         7           7           3             40  "
      ]
     },
     "execution_count": 90,
     "metadata": {},
     "output_type": "execute_result"
    }
   ],
   "source": [
    "DataFrame(OrderedDict([('OneTime', assisOne), ('TwoTimes', assisTwo), \n",
    "                       ('ThreeTimes', assisThree), ('FourTimes', assisFour), \n",
    "                       ('FiveTimes', assisFive), ('SixTimes', assisSix), \n",
    "                       ('SevenTimes', assisSeven), ('EightTimes', assisEight), \n",
    "                       ('Greater8Times', assisGreater8)]), \n",
    "                       index=['Number of Assistance'])"
   ]
  },
  {
   "cell_type": "code",
   "execution_count": 32,
   "metadata": {},
   "outputs": [
    {
     "data": {
      "text/plain": [
       "<matplotlib.text.Text at 0x7f636d93edd0>"
      ]
     },
     "execution_count": 32,
     "metadata": {},
     "output_type": "execute_result"
    },
    {
     "data": {
      "image/png": "[encoded data removed]",
      "text/plain": [
       "<matplotlib.figure.Figure at 0x7f636d920bd0>"
      ]
     },
     "metadata": {},
     "output_type": "display_data"
    }
   ],
   "source": [
    "fig=plt.gcf().set_size_inches(8, 8)\n",
    "plt.hist(x=df_filter.Total, bins=10)\n",
    "plt.title('Histogram of the total number of assistance', fontsize=20)\n",
    "plt.xlabel('Number of assistances')\n",
    "plt.ylabel('Frequency')"
   ]
  },
  {
   "cell_type": "markdown",
   "metadata": {},
   "source": [
    "# Criterion to create groups\n",
    "\n",
    "This is taken under personal criterion based on the distribution of the data in the Histogram:\n",
    "1. Group 1 (the faithful): People who came 8 or more times during the 6 months period.\n",
    "2. Group 2 (the irregular): People who came between 3 and 7 times during the 6 months period.\n",
    "3. Group 3 (the indecisive): People who came less or equal than 2 times during the 6 months period.\n"
   ]
  },
  {
   "cell_type": "code",
   "execution_count": 95,
   "metadata": {},
   "outputs": [],
   "source": [
    "group1cnt=df_filter['Total'][df_filter['Total']>=8].count()\n",
    "group2cnt=df_filter['Total'][(df_filter['Total']>=3) & \n",
    "                             (df_filter['Total']<=7)].count()\n",
    "group3cnt=df_filter['Total'][df_filter['Total']<=2].count()"
   ]
  },
  {
   "cell_type": "code",
   "execution_count": 89,
   "metadata": {},
   "outputs": [],
   "source": [
    "groupsCount=DataFrame(OrderedDict([('Group1(the faithful)', group1cnt), \n",
    "                                   ('Group2(the irregular)', group2cnt), \n",
    "                                   ('Group3(the indecisive)', group3cnt)]), \n",
    "                                   index=['Number of Members'])"
   ]
  },
  {
   "cell_type": "code",
   "execution_count": 65,
   "metadata": {},
   "outputs": [
    {
     "data": {
      "text/html": [
       "<div>\n",
       "<style scoped>\n",
       "    .dataframe tbody tr th:only-of-type {\n",
       "        vertical-align: middle;\n",
       "    }\n",
       "\n",
       "    .dataframe tbody tr th {\n",
       "        vertical-align: top;\n",
       "    }\n",
       "\n",
       "    .dataframe thead th {\n",
       "        text-align: right;\n",
       "    }\n",
       "</style>\n",
       "<table border=\"1\" class=\"dataframe\">\n",
       "  <thead>\n",
       "    <tr style=\"text-align: right;\">\n",
       "      <th></th>\n",
       "      <th>Group1(the faithful)</th>\n",
       "      <th>Group2(the irregular)</th>\n",
       "      <th>Group3(the indecisive)</th>\n",
       "    </tr>\n",
       "  </thead>\n",
       "  <tbody>\n",
       "    <tr>\n",
       "      <th>Number of Members</th>\n",
       "      <td>43</td>\n",
       "      <td>43</td>\n",
       "      <td>98</td>\n",
       "    </tr>\n",
       "  </tbody>\n",
       "</table>\n",
       "</div>"
      ],
      "text/plain": [
       "                   Group1(the faithful)  Group2(the irregular)  \\\n",
       "Number of Members                    43                     43   \n",
       "\n",
       "                   Group3(the indecisive)  \n",
       "Number of Members                      98  "
      ]
     },
     "execution_count": 65,
     "metadata": {},
     "output_type": "execute_result"
    }
   ],
   "source": [
    "groupsCount"
   ]
  },
  {
   "cell_type": "code",
   "execution_count": 96,
   "metadata": {},
   "outputs": [
    {
     "data": {
      "text/plain": [
       "<matplotlib.text.Text at 0x7f636ced2750>"
      ]
     },
     "execution_count": 96,
     "metadata": {},
     "output_type": "execute_result"
    },
    {
     "data": {
      "image/png": "[encoded data removed]",
      "text/plain": [
       "<matplotlib.figure.Figure at 0x7f636d057cd0>"
      ]
     },
     "metadata": {},
     "output_type": "display_data"
    }
   ],
   "source": [
    "x=groupsCount.loc['Number of Members']\n",
    "labels = ['Group1(The faithful)','Group2(The irregular)','Group3(The indecisive)']\n",
    "explode = (0.01, 0.01, 0.01)\n",
    "plt.pie(x, labels=labels, explode=explode, autopct='%.0f%%')\n",
    "plt.title('Pie Chart - Number of Members per Group', fontsize=20)"
   ]
  },
  {
   "cell_type": "markdown",
   "metadata": {},
   "source": [
    "## GROUP 1 - The faithful"
   ]
  },
  {
   "cell_type": "code",
   "execution_count": 51,
   "metadata": {},
   "outputs": [],
   "source": [
    "group1=df_filter[df_filter['Total']>=8]"
   ]
  },
  {
   "cell_type": "code",
   "execution_count": 55,
   "metadata": {
    "scrolled": true
   },
   "outputs": [
    {
     "data": {
      "text/html": [
       "<div>\n",
       "<style scoped>\n",
       "    .dataframe tbody tr th:only-of-type {\n",
       "        vertical-align: middle;\n",
       "    }\n",
       "\n",
       "    .dataframe tbody tr th {\n",
       "        vertical-align: top;\n",
       "    }\n",
       "\n",
       "    .dataframe thead th {\n",
       "        text-align: right;\n",
       "    }\n",
       "</style>\n",
       "<table border=\"1\" class=\"dataframe\">\n",
       "  <thead>\n",
       "    <tr style=\"text-align: right;\">\n",
       "      <th></th>\n",
       "      <th>Nombre</th>\n",
       "      <th>Juli</th>\n",
       "      <th>August</th>\n",
       "      <th>September</th>\n",
       "      <th>Oktober</th>\n",
       "      <th>November</th>\n",
       "      <th>Dezember</th>\n",
       "      <th>Januar</th>\n",
       "      <th>Total</th>\n",
       "    </tr>\n",
       "  </thead>\n",
       "  <tbody>\n",
       "    <tr>\n",
       "      <th>7</th>\n",
       "      <td>Ana Pascual</td>\n",
       "      <td>0</td>\n",
       "      <td>0</td>\n",
       "      <td>2</td>\n",
       "      <td>2</td>\n",
       "      <td>3</td>\n",
       "      <td>1</td>\n",
       "      <td>2</td>\n",
       "      <td>10</td>\n",
       "    </tr>\n",
       "    <tr>\n",
       "      <th>9</th>\n",
       "      <td>Anastasia M Butschek</td>\n",
       "      <td>0</td>\n",
       "      <td>0</td>\n",
       "      <td>2</td>\n",
       "      <td>5</td>\n",
       "      <td>5</td>\n",
       "      <td>2</td>\n",
       "      <td>0</td>\n",
       "      <td>14</td>\n",
       "    </tr>\n",
       "    <tr>\n",
       "      <th>16</th>\n",
       "      <td>Anne Burghartz</td>\n",
       "      <td>0</td>\n",
       "      <td>1</td>\n",
       "      <td>2</td>\n",
       "      <td>3</td>\n",
       "      <td>2</td>\n",
       "      <td>2</td>\n",
       "      <td>2</td>\n",
       "      <td>12</td>\n",
       "    </tr>\n",
       "    <tr>\n",
       "      <th>17</th>\n",
       "      <td>Anni Lopez</td>\n",
       "      <td>0</td>\n",
       "      <td>0</td>\n",
       "      <td>2</td>\n",
       "      <td>2</td>\n",
       "      <td>2</td>\n",
       "      <td>2</td>\n",
       "      <td>0</td>\n",
       "      <td>8</td>\n",
       "    </tr>\n",
       "    <tr>\n",
       "      <th>29</th>\n",
       "      <td>Carlos Ruiz</td>\n",
       "      <td>0</td>\n",
       "      <td>2</td>\n",
       "      <td>3</td>\n",
       "      <td>3</td>\n",
       "      <td>1</td>\n",
       "      <td>2</td>\n",
       "      <td>1</td>\n",
       "      <td>12</td>\n",
       "    </tr>\n",
       "  </tbody>\n",
       "</table>\n",
       "</div>"
      ],
      "text/plain": [
       "                  Nombre  Juli  August  September  Oktober  November  \\\n",
       "7            Ana Pascual     0       0          2        2         3   \n",
       "9   Anastasia M Butschek     0       0          2        5         5   \n",
       "16        Anne Burghartz     0       1          2        3         2   \n",
       "17            Anni Lopez     0       0          2        2         2   \n",
       "29           Carlos Ruiz     0       2          3        3         1   \n",
       "\n",
       "    Dezember  Januar  Total  \n",
       "7          1       2     10  \n",
       "9          2       0     14  \n",
       "16         2       2     12  \n",
       "17         2       0      8  \n",
       "29         2       1     12  "
      ]
     },
     "execution_count": 55,
     "metadata": {},
     "output_type": "execute_result"
    }
   ],
   "source": [
    "group1.head(5)"
   ]
  },
  {
   "cell_type": "markdown",
   "metadata": {},
   "source": [
    "## GROUP 2 - The irregular"
   ]
  },
  {
   "cell_type": "code",
   "execution_count": 56,
   "metadata": {},
   "outputs": [],
   "source": [
    "group2=df_filter[(df_filter['Total']>=3) & (df_filter['Total']<=7)]"
   ]
  },
  {
   "cell_type": "code",
   "execution_count": 58,
   "metadata": {
    "scrolled": true
   },
   "outputs": [
    {
     "data": {
      "text/html": [
       "<div>\n",
       "<style scoped>\n",
       "    .dataframe tbody tr th:only-of-type {\n",
       "        vertical-align: middle;\n",
       "    }\n",
       "\n",
       "    .dataframe tbody tr th {\n",
       "        vertical-align: top;\n",
       "    }\n",
       "\n",
       "    .dataframe thead th {\n",
       "        text-align: right;\n",
       "    }\n",
       "</style>\n",
       "<table border=\"1\" class=\"dataframe\">\n",
       "  <thead>\n",
       "    <tr style=\"text-align: right;\">\n",
       "      <th></th>\n",
       "      <th>Nombre</th>\n",
       "      <th>Juli</th>\n",
       "      <th>August</th>\n",
       "      <th>September</th>\n",
       "      <th>Oktober</th>\n",
       "      <th>November</th>\n",
       "      <th>Dezember</th>\n",
       "      <th>Januar</th>\n",
       "      <th>Total</th>\n",
       "    </tr>\n",
       "  </thead>\n",
       "  <tbody>\n",
       "    <tr>\n",
       "      <th>0</th>\n",
       "      <td>Alex Pimentel</td>\n",
       "      <td>1</td>\n",
       "      <td>0</td>\n",
       "      <td>2</td>\n",
       "      <td>0</td>\n",
       "      <td>0</td>\n",
       "      <td>0</td>\n",
       "      <td>0</td>\n",
       "      <td>3</td>\n",
       "    </tr>\n",
       "    <tr>\n",
       "      <th>2</th>\n",
       "      <td>Alexander Meier</td>\n",
       "      <td>0</td>\n",
       "      <td>4</td>\n",
       "      <td>0</td>\n",
       "      <td>0</td>\n",
       "      <td>0</td>\n",
       "      <td>0</td>\n",
       "      <td>0</td>\n",
       "      <td>4</td>\n",
       "    </tr>\n",
       "    <tr>\n",
       "      <th>3</th>\n",
       "      <td>Alina Wagner</td>\n",
       "      <td>1</td>\n",
       "      <td>0</td>\n",
       "      <td>2</td>\n",
       "      <td>0</td>\n",
       "      <td>0</td>\n",
       "      <td>0</td>\n",
       "      <td>0</td>\n",
       "      <td>3</td>\n",
       "    </tr>\n",
       "    <tr>\n",
       "      <th>10</th>\n",
       "      <td>Andres Acosta</td>\n",
       "      <td>0</td>\n",
       "      <td>1</td>\n",
       "      <td>2</td>\n",
       "      <td>1</td>\n",
       "      <td>0</td>\n",
       "      <td>0</td>\n",
       "      <td>0</td>\n",
       "      <td>4</td>\n",
       "    </tr>\n",
       "    <tr>\n",
       "      <th>12</th>\n",
       "      <td>Angelika Mucha</td>\n",
       "      <td>4</td>\n",
       "      <td>1</td>\n",
       "      <td>2</td>\n",
       "      <td>0</td>\n",
       "      <td>0</td>\n",
       "      <td>0</td>\n",
       "      <td>0</td>\n",
       "      <td>7</td>\n",
       "    </tr>\n",
       "  </tbody>\n",
       "</table>\n",
       "</div>"
      ],
      "text/plain": [
       "             Nombre  Juli  August  September  Oktober  November  Dezember  \\\n",
       "0     Alex Pimentel     1       0          2        0         0         0   \n",
       "2   Alexander Meier     0       4          0        0         0         0   \n",
       "3      Alina Wagner     1       0          2        0         0         0   \n",
       "10    Andres Acosta     0       1          2        1         0         0   \n",
       "12   Angelika Mucha     4       1          2        0         0         0   \n",
       "\n",
       "    Januar  Total  \n",
       "0        0      3  \n",
       "2        0      4  \n",
       "3        0      3  \n",
       "10       0      4  \n",
       "12       0      7  "
      ]
     },
     "execution_count": 58,
     "metadata": {},
     "output_type": "execute_result"
    }
   ],
   "source": [
    "#print(group2.to_string())\n",
    "group2.head(5)"
   ]
  },
  {
   "cell_type": "markdown",
   "metadata": {},
   "source": [
    "## GROUP 3 - The indecisive"
   ]
  },
  {
   "cell_type": "code",
   "execution_count": 61,
   "metadata": {},
   "outputs": [],
   "source": [
    "group3=df_filter[df_filter['Total']<=2]"
   ]
  },
  {
   "cell_type": "code",
   "execution_count": 62,
   "metadata": {},
   "outputs": [
    {
     "data": {
      "text/html": [
       "<div>\n",
       "<style scoped>\n",
       "    .dataframe tbody tr th:only-of-type {\n",
       "        vertical-align: middle;\n",
       "    }\n",
       "\n",
       "    .dataframe tbody tr th {\n",
       "        vertical-align: top;\n",
       "    }\n",
       "\n",
       "    .dataframe thead th {\n",
       "        text-align: right;\n",
       "    }\n",
       "</style>\n",
       "<table border=\"1\" class=\"dataframe\">\n",
       "  <thead>\n",
       "    <tr style=\"text-align: right;\">\n",
       "      <th></th>\n",
       "      <th>Nombre</th>\n",
       "      <th>Juli</th>\n",
       "      <th>August</th>\n",
       "      <th>September</th>\n",
       "      <th>Oktober</th>\n",
       "      <th>November</th>\n",
       "      <th>Dezember</th>\n",
       "      <th>Januar</th>\n",
       "      <th>Total</th>\n",
       "    </tr>\n",
       "  </thead>\n",
       "  <tbody>\n",
       "    <tr>\n",
       "      <th>1</th>\n",
       "      <td>Alex Weidner</td>\n",
       "      <td>1</td>\n",
       "      <td>0</td>\n",
       "      <td>0</td>\n",
       "      <td>1</td>\n",
       "      <td>0</td>\n",
       "      <td>0</td>\n",
       "      <td>0</td>\n",
       "      <td>2</td>\n",
       "    </tr>\n",
       "    <tr>\n",
       "      <th>4</th>\n",
       "      <td>Alonso Renard</td>\n",
       "      <td>0</td>\n",
       "      <td>0</td>\n",
       "      <td>0</td>\n",
       "      <td>1</td>\n",
       "      <td>0</td>\n",
       "      <td>0</td>\n",
       "      <td>0</td>\n",
       "      <td>1</td>\n",
       "    </tr>\n",
       "    <tr>\n",
       "      <th>5</th>\n",
       "      <td>Anais</td>\n",
       "      <td>0</td>\n",
       "      <td>0</td>\n",
       "      <td>0</td>\n",
       "      <td>0</td>\n",
       "      <td>0</td>\n",
       "      <td>0</td>\n",
       "      <td>1</td>\n",
       "      <td>1</td>\n",
       "    </tr>\n",
       "    <tr>\n",
       "      <th>6</th>\n",
       "      <td>Analie</td>\n",
       "      <td>0</td>\n",
       "      <td>0</td>\n",
       "      <td>0</td>\n",
       "      <td>0</td>\n",
       "      <td>1</td>\n",
       "      <td>0</td>\n",
       "      <td>0</td>\n",
       "      <td>1</td>\n",
       "    </tr>\n",
       "    <tr>\n",
       "      <th>8</th>\n",
       "      <td>Ana Perez</td>\n",
       "      <td>0</td>\n",
       "      <td>0</td>\n",
       "      <td>2</td>\n",
       "      <td>0</td>\n",
       "      <td>0</td>\n",
       "      <td>0</td>\n",
       "      <td>0</td>\n",
       "      <td>2</td>\n",
       "    </tr>\n",
       "  </tbody>\n",
       "</table>\n",
       "</div>"
      ],
      "text/plain": [
       "          Nombre  Juli  August  September  Oktober  November  Dezember  \\\n",
       "1   Alex Weidner     1       0          0        1         0         0   \n",
       "4  Alonso Renard     0       0          0        1         0         0   \n",
       "5          Anais     0       0          0        0         0         0   \n",
       "6         Analie     0       0          0        0         1         0   \n",
       "8      Ana Perez     0       0          2        0         0         0   \n",
       "\n",
       "   Januar  Total  \n",
       "1       0      2  \n",
       "4       0      1  \n",
       "5       1      1  \n",
       "6       0      1  \n",
       "8       0      2  "
      ]
     },
     "execution_count": 62,
     "metadata": {},
     "output_type": "execute_result"
    }
   ],
   "source": [
    "group3.head(5)"
   ]
  }
 ],
 "metadata": {
  "celltoolbar": "Raw Cell Format",
  "kernelspec": {
   "display_name": "Python 2",
   "language": "python",
   "name": "python2"
  },
  "language_info": {
   "codemirror_mode": {
    "name": "ipython",
    "version": 2
   },
   "file_extension": ".py",
   "mimetype": "text/x-python",
   "name": "python",
   "nbconvert_exporter": "python",
   "pygments_lexer": "ipython2",
   "version": "2.7.12"
  }
 },
 "nbformat": 4,
 "nbformat_minor": 2
}
